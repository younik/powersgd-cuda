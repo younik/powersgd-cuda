{
 "cells": [
  {
   "cell_type": "code",
   "execution_count": 61,
   "metadata": {},
   "outputs": [],
   "source": [
    "import torch\n",
    "from torch.utils.cpp_extension import load\n",
    "from algo import original_orth\n",
    "import timeit"
   ]
  },
  {
   "cell_type": "code",
   "execution_count": 94,
   "metadata": {},
   "outputs": [],
   "source": [
    "qr_func = load(name=\"qr_func\", sources=[\"qr_orthogonalization.cpp\", \"qr_orthogonalization.cu\"])"
   ]
  },
  {
   "cell_type": "code",
   "execution_count": 95,
   "metadata": {},
   "outputs": [],
   "source": [
    "M = 8\n",
    "N = 1024\n",
    "device = torch.device(\"cuda\")\n",
    "\n",
    "A = torch.rand((M, N), device=device)\n",
    "Q = torch.zeros((M,N), device=device)"
   ]
  },
  {
   "cell_type": "code",
   "execution_count": 96,
   "metadata": {},
   "outputs": [],
   "source": [
    "qr_func.qr_orthogonalization(A.clone(), Q, 0)"
   ]
  },
  {
   "cell_type": "code",
   "execution_count": 97,
   "metadata": {},
   "outputs": [
    {
     "data": {
      "text/plain": [
       "tensor([[ 1.0000e+00,  4.6566e-09, -5.5879e-09,  1.1176e-08,  3.7253e-09,\n",
       "         -1.0245e-08,  2.3283e-09,  1.3970e-09],\n",
       "        [ 4.6566e-09,  1.0000e+00, -1.2922e-08, -5.1223e-09, -5.5879e-09,\n",
       "          2.7940e-09,  1.8626e-09,  1.3039e-08],\n",
       "        [-5.5879e-09, -1.2922e-08,  1.0000e+00,  4.6566e-10, -9.3132e-10,\n",
       "         -1.8626e-09, -9.3132e-10,  2.0955e-09],\n",
       "        [ 1.1176e-08, -5.1223e-09,  4.6566e-10,  1.0000e+00, -2.7940e-09,\n",
       "          6.5193e-09, -9.3132e-10,  3.7253e-09],\n",
       "        [ 3.7253e-09, -5.5879e-09, -9.3132e-10, -2.7940e-09,  1.0000e+00,\n",
       "         -7.9162e-09, -5.5879e-09, -5.5879e-09],\n",
       "        [-1.0245e-08,  2.7940e-09, -1.8626e-09,  6.5193e-09, -7.9162e-09,\n",
       "          1.0000e+00,  1.4901e-08,  9.3132e-09],\n",
       "        [ 2.3283e-09,  1.8626e-09, -9.3132e-10, -9.3132e-10, -5.5879e-09,\n",
       "          1.4901e-08,  1.0000e+00,  3.7253e-09],\n",
       "        [ 1.3970e-09,  1.3039e-08,  2.0955e-09,  3.7253e-09, -5.5879e-09,\n",
       "          9.3132e-09,  3.7253e-09,  1.0000e+00]], device='cuda:0')"
      ]
     },
     "execution_count": 97,
     "metadata": {},
     "output_type": "execute_result"
    }
   ],
   "source": [
    "Q @ Q.T"
   ]
  },
  {
   "cell_type": "code",
   "execution_count": 99,
   "metadata": {},
   "outputs": [
    {
     "data": {
      "text/plain": [
       "tensor(6.3555e-07, device='cuda:0')"
      ]
     },
     "execution_count": 99,
     "metadata": {},
     "output_type": "execute_result"
    }
   ],
   "source": [
    "torch.norm(Q @ Q.T - torch.eye(M, device = device))"
   ]
  },
  {
   "cell_type": "code",
   "execution_count": 100,
   "metadata": {},
   "outputs": [],
   "source": [
    "Q_or = original_orth(A.clone(), 0)"
   ]
  },
  {
   "cell_type": "code",
   "execution_count": 101,
   "metadata": {},
   "outputs": [
    {
     "data": {
      "text/plain": [
       "tensor(0.2016, device='cuda:0')"
      ]
     },
     "execution_count": 101,
     "metadata": {},
     "output_type": "execute_result"
    }
   ],
   "source": [
    "torch.norm(Q - Q_or)"
   ]
  },
  {
   "cell_type": "code",
   "execution_count": 102,
   "metadata": {},
   "outputs": [
    {
     "data": {
      "text/plain": [
       "tensor(6.7086e-07, device='cuda:0')"
      ]
     },
     "execution_count": 102,
     "metadata": {},
     "output_type": "execute_result"
    }
   ],
   "source": [
    "torch.norm(Q_or @ Q_or.T - torch.eye(M, device = device))"
   ]
  },
  {
   "cell_type": "code",
   "execution_count": 103,
   "metadata": {},
   "outputs": [
    {
     "name": "stdout",
     "output_type": "stream",
     "text": [
      "418 µs ± 10.6 µs per loop (mean ± std. dev. of 7 runs, 1000 loops each)\n"
     ]
    }
   ],
   "source": [
    "%timeit torch.cuda.synchronize(); qr_func.qr_orthogonalization(A.clone(), Q, 0); torch.cuda.synchronize();"
   ]
  },
  {
   "cell_type": "code",
   "execution_count": 104,
   "metadata": {},
   "outputs": [
    {
     "name": "stdout",
     "output_type": "stream",
     "text": [
      "10.2 ms ± 318 µs per loop (mean ± std. dev. of 7 runs, 100 loops each)\n"
     ]
    }
   ],
   "source": [
    "%timeit torch.cuda.synchronize(); torch.qr(A.clone()); torch.cuda.synchronize();"
   ]
  },
  {
   "cell_type": "code",
   "execution_count": null,
   "metadata": {},
   "outputs": [],
   "source": []
  }
 ],
 "metadata": {
  "language_info": {
   "name": "python"
  },
  "orig_nbformat": 4
 },
 "nbformat": 4,
 "nbformat_minor": 2
}
