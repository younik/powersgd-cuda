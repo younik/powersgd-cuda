{
 "cells": [
  {
   "cell_type": "code",
   "execution_count": 97,
   "metadata": {},
   "outputs": [],
   "source": [
    "import torch\n",
    "from torch.utils.cpp_extension import load\n",
    "from algo import original_orth\n",
    "import itertools"
   ]
  },
  {
   "cell_type": "code",
   "execution_count": 160,
   "metadata": {},
   "outputs": [],
   "source": [
    "qr_func = load(name=\"qr_func\", sources=[\"qr_orthogonalization.cpp\", \"qr_orthogonalization.cu\"])"
   ]
  },
  {
   "cell_type": "code",
   "execution_count": 161,
   "metadata": {},
   "outputs": [],
   "source": [
    "M = 8\n",
    "N = 1024\n",
    "device = torch.device(\"cuda\")\n",
    "\n",
    "A = torch.rand((M, N), device=device)\n",
    "Q = torch.empty((M, N), device=device)"
   ]
  },
  {
   "cell_type": "code",
   "execution_count": 162,
   "metadata": {},
   "outputs": [
    {
     "data": {
      "text/plain": [
       "tensor([[0.7412, 0.2401, 0.4562,  ..., 0.4902, 0.0404, 0.6421],\n",
       "        [0.0899, 0.2945, 0.1316,  ..., 0.1007, 0.6630, 0.6538],\n",
       "        [0.1928, 0.0536, 0.2674,  ..., 0.2595, 0.8048, 0.0408],\n",
       "        ...,\n",
       "        [0.5301, 0.3110, 0.5386,  ..., 0.9007, 0.3789, 0.8954],\n",
       "        [0.7383, 0.9444, 0.8923,  ..., 0.1863, 0.7965, 0.1755],\n",
       "        [0.3619, 0.4864, 0.4673,  ..., 0.4036, 0.1033, 0.1025]],\n",
       "       device='cuda:0')"
      ]
     },
     "execution_count": 162,
     "metadata": {},
     "output_type": "execute_result"
    }
   ],
   "source": [
    "A"
   ]
  },
  {
   "cell_type": "code",
   "execution_count": 163,
   "metadata": {},
   "outputs": [
    {
     "data": {
      "text/plain": [
       "tensor([[-0.0399,  0.0356,  0.0134,  ..., -0.0276,  0.0023, -0.0355],\n",
       "        [-0.0129, -0.0098,  0.0156,  ...,  0.0144, -0.0499, -0.0219],\n",
       "        [-0.0246,  0.0158, -0.0020,  ..., -0.0028, -0.0430,  0.0461],\n",
       "        ...,\n",
       "        [-0.0062, -0.0654, -0.0310,  ...,  0.0573, -0.0225,  0.0387],\n",
       "        [-0.0181, -0.0523,  0.0046,  ...,  0.0223, -0.0263,  0.0400],\n",
       "        [-0.0086, -0.0328, -0.0090,  ..., -0.0004, -0.0490, -0.0340]],\n",
       "       device='cuda:0')"
      ]
     },
     "execution_count": 163,
     "metadata": {},
     "output_type": "execute_result"
    }
   ],
   "source": [
    "qr_func.qr_orthogonalization(A, out=Q)"
   ]
  },
  {
   "cell_type": "code",
   "execution_count": 166,
   "metadata": {},
   "outputs": [
    {
     "data": {
      "text/plain": [
       "tensor([[ 1.0000e+00, -3.7253e-09,  1.3970e-08, -3.0268e-09,  5.5879e-09,\n",
       "          6.0536e-09, -1.1176e-08,  1.8626e-09],\n",
       "        [-3.7253e-09,  1.0000e+00,  1.1642e-09, -9.3132e-09, -1.0245e-08,\n",
       "          6.9849e-09,  2.2817e-08,  4.6566e-10],\n",
       "        [ 1.3970e-08,  1.1642e-09,  1.0000e+00, -2.5146e-08,  6.5193e-09,\n",
       "          6.5193e-09,  0.0000e+00, -9.3132e-09],\n",
       "        [-3.0268e-09, -9.3132e-09, -2.5146e-08,  1.0000e+00, -4.1910e-09,\n",
       "         -1.0245e-08, -1.0012e-08,  1.7928e-08],\n",
       "        [ 5.5879e-09, -1.0245e-08,  6.5193e-09, -4.1910e-09,  1.0000e+00,\n",
       "         -3.9581e-09,  1.8626e-09, -1.6764e-08],\n",
       "        [ 6.0536e-09,  6.9849e-09,  6.5193e-09, -1.0245e-08, -3.9581e-09,\n",
       "          1.0000e+00, -1.8626e-09,  2.8056e-08],\n",
       "        [-1.1176e-08,  2.2817e-08,  0.0000e+00, -1.0012e-08,  1.8626e-09,\n",
       "         -1.8626e-09,  1.0000e+00, -2.1420e-08],\n",
       "        [ 1.8626e-09,  4.6566e-10, -9.3132e-09,  1.7928e-08, -1.6764e-08,\n",
       "          2.8056e-08, -2.1420e-08,  1.0000e+00]], device='cuda:0')"
      ]
     },
     "execution_count": 166,
     "metadata": {},
     "output_type": "execute_result"
    }
   ],
   "source": [
    "Q @ Q.T"
   ]
  },
  {
   "cell_type": "code",
   "execution_count": 167,
   "metadata": {},
   "outputs": [
    {
     "data": {
      "text/plain": [
       "tensor(7.8690e-07, device='cuda:0')"
      ]
     },
     "execution_count": 167,
     "metadata": {},
     "output_type": "execute_result"
    }
   ],
   "source": [
    "torch.norm(Q @ Q.T - torch.eye(M, device = device))"
   ]
  },
  {
   "cell_type": "code",
   "execution_count": 168,
   "metadata": {},
   "outputs": [],
   "source": [
    "def my_qr(A):\n",
    "     qr_func.qr_orthogonalization(A);"
   ]
  },
  {
   "cell_type": "code",
   "execution_count": 169,
   "metadata": {},
   "outputs": [],
   "source": [
    "def timing(func, A, repeat=1000):\n",
    "    start = torch.cuda.Event(enable_timing=True, blocking=True)\n",
    "    stop  = torch.cuda.Event(enable_timing=True, blocking=True)\n",
    "\n",
    "    start.record()\n",
    "    for n in range(repeat):\n",
    "        func(A)\n",
    "\n",
    "    stop.record()\n",
    "    stop.synchronize()\n",
    "    return start.elapsed_time(stop) / repeat * 1000\n",
    "    "
   ]
  },
  {
   "cell_type": "code",
   "execution_count": 170,
   "metadata": {},
   "outputs": [
    {
     "name": "stdout",
     "output_type": "stream",
     "text": [
      "shape\t\tcustom (us)\ttorch.qr (us)\t\tspeedup\n",
      "(2, 256):\t 89.5 \t \t 25022.6 \t\t 279.72x\n"
     ]
    },
    {
     "ename": "KeyboardInterrupt",
     "evalue": "",
     "output_type": "error",
     "traceback": [
      "\u001b[0;31m---------------------------------------------------------------------------\u001b[0m",
      "\u001b[0;31mKeyboardInterrupt\u001b[0m                         Traceback (most recent call last)",
      "\u001b[0;32m<ipython-input-170-fe59f1d1629d>\u001b[0m in \u001b[0;36m<module>\u001b[0;34m\u001b[0m\n\u001b[1;32m      6\u001b[0m \u001b[0;32mfor\u001b[0m \u001b[0mM\u001b[0m\u001b[0;34m,\u001b[0m \u001b[0mN\u001b[0m \u001b[0;32min\u001b[0m \u001b[0mitertools\u001b[0m\u001b[0;34m.\u001b[0m\u001b[0mproduct\u001b[0m\u001b[0;34m(\u001b[0m\u001b[0mms\u001b[0m\u001b[0;34m,\u001b[0m \u001b[0mns\u001b[0m\u001b[0;34m)\u001b[0m\u001b[0;34m:\u001b[0m\u001b[0;34m\u001b[0m\u001b[0;34m\u001b[0m\u001b[0m\n\u001b[1;32m      7\u001b[0m     \u001b[0mA\u001b[0m \u001b[0;34m=\u001b[0m \u001b[0mtorch\u001b[0m\u001b[0;34m.\u001b[0m\u001b[0mrand\u001b[0m\u001b[0;34m(\u001b[0m\u001b[0;34m(\u001b[0m\u001b[0mM\u001b[0m\u001b[0;34m,\u001b[0m \u001b[0mN\u001b[0m\u001b[0;34m)\u001b[0m\u001b[0;34m,\u001b[0m \u001b[0mdevice\u001b[0m\u001b[0;34m=\u001b[0m\u001b[0mdevice\u001b[0m\u001b[0;34m)\u001b[0m\u001b[0;34m\u001b[0m\u001b[0;34m\u001b[0m\u001b[0m\n\u001b[0;32m----> 8\u001b[0;31m     \u001b[0mtorch_time\u001b[0m \u001b[0;34m=\u001b[0m \u001b[0mtiming\u001b[0m\u001b[0;34m(\u001b[0m\u001b[0mtorch\u001b[0m\u001b[0;34m.\u001b[0m\u001b[0mqr\u001b[0m\u001b[0;34m,\u001b[0m \u001b[0mA\u001b[0m\u001b[0;34m)\u001b[0m\u001b[0;34m\u001b[0m\u001b[0;34m\u001b[0m\u001b[0m\n\u001b[0m\u001b[1;32m      9\u001b[0m     \u001b[0mmy_time\u001b[0m \u001b[0;34m=\u001b[0m \u001b[0mtiming\u001b[0m\u001b[0;34m(\u001b[0m\u001b[0mmy_qr\u001b[0m\u001b[0;34m,\u001b[0m \u001b[0mA\u001b[0m\u001b[0;34m)\u001b[0m\u001b[0;34m\u001b[0m\u001b[0;34m\u001b[0m\u001b[0m\n\u001b[1;32m     10\u001b[0m     \u001b[0mspeedup\u001b[0m \u001b[0;34m=\u001b[0m \u001b[0mtorch_time\u001b[0m \u001b[0;34m/\u001b[0m \u001b[0mmy_time\u001b[0m\u001b[0;34m\u001b[0m\u001b[0;34m\u001b[0m\u001b[0m\n",
      "\u001b[0;32m<ipython-input-169-86f038bd450d>\u001b[0m in \u001b[0;36mtiming\u001b[0;34m(func, A, repeat)\u001b[0m\n\u001b[1;32m      5\u001b[0m     \u001b[0mstart\u001b[0m\u001b[0;34m.\u001b[0m\u001b[0mrecord\u001b[0m\u001b[0;34m(\u001b[0m\u001b[0;34m)\u001b[0m\u001b[0;34m\u001b[0m\u001b[0;34m\u001b[0m\u001b[0m\n\u001b[1;32m      6\u001b[0m     \u001b[0;32mfor\u001b[0m \u001b[0mn\u001b[0m \u001b[0;32min\u001b[0m \u001b[0mrange\u001b[0m\u001b[0;34m(\u001b[0m\u001b[0mrepeat\u001b[0m\u001b[0;34m)\u001b[0m\u001b[0;34m:\u001b[0m\u001b[0;34m\u001b[0m\u001b[0;34m\u001b[0m\u001b[0m\n\u001b[0;32m----> 7\u001b[0;31m         \u001b[0mfunc\u001b[0m\u001b[0;34m(\u001b[0m\u001b[0mA\u001b[0m\u001b[0;34m)\u001b[0m\u001b[0;34m\u001b[0m\u001b[0;34m\u001b[0m\u001b[0m\n\u001b[0m\u001b[1;32m      8\u001b[0m \u001b[0;34m\u001b[0m\u001b[0m\n\u001b[1;32m      9\u001b[0m     \u001b[0mstop\u001b[0m\u001b[0;34m.\u001b[0m\u001b[0mrecord\u001b[0m\u001b[0;34m(\u001b[0m\u001b[0;34m)\u001b[0m\u001b[0;34m\u001b[0m\u001b[0;34m\u001b[0m\u001b[0m\n",
      "\u001b[0;31mKeyboardInterrupt\u001b[0m: "
     ]
    }
   ],
   "source": [
    "ms = [2, 4, 8, 16, 32, 64, 128]\n",
    "ns = [256, 512, 1024, 2048, 4096]\n",
    "device = torch.device(\"cuda\")\n",
    "\n",
    "print(\"shape\\t\\tcustom (us)\\ttorch.qr (us)\\t\\tspeedup\")\n",
    "for M, N in itertools.product(ms, ns):\n",
    "    A = torch.rand((M, N), device=device)\n",
    "    torch_time = timing(torch.qr, A)\n",
    "    my_time = timing(my_qr, A)\n",
    "    speedup = torch_time / my_time\n",
    "\n",
    "    print(\"({:d}, {:d}):\\t {:.1f} \\t \\t {:.1f} \\t\\t {:.2f}x\".format(M, N, my_time, torch_time, speedup))"
   ]
  },
  {
   "cell_type": "code",
   "execution_count": null,
   "metadata": {},
   "outputs": [],
   "source": []
  }
 ],
 "metadata": {
  "interpreter": {
   "hash": "916dbcbb3f70747c44a77c7bcd40155683ae19c65e1c03b4aa3499c5328201f1"
  },
  "kernelspec": {
   "display_name": "Python 3.8.10 64-bit",
   "language": "python",
   "name": "python3"
  },
  "language_info": {
   "codemirror_mode": {
    "name": "ipython",
    "version": 3
   },
   "file_extension": ".py",
   "mimetype": "text/x-python",
   "name": "python",
   "nbconvert_exporter": "python",
   "pygments_lexer": "ipython3",
   "version": "3.8.5"
  },
  "orig_nbformat": 4
 },
 "nbformat": 4,
 "nbformat_minor": 2
}
