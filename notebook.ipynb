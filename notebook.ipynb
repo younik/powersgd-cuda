{
 "cells": [
  {
   "cell_type": "code",
   "execution_count": 46,
   "metadata": {},
   "outputs": [],
   "source": [
    "import torch\n",
    "from torch.utils.cpp_extension import load\n",
    "from algo import original_orth\n",
    "import timeit\n",
    "import itertools"
   ]
  },
  {
   "cell_type": "code",
   "execution_count": 57,
   "metadata": {},
   "outputs": [],
   "source": [
    "qr_func = load(name=\"qr_func\", sources=[\"qr_orthogonalization.cpp\", \"qr_orthogonalization.cu\"])"
   ]
  },
  {
   "cell_type": "code",
   "execution_count": 58,
   "metadata": {},
   "outputs": [
    {
     "data": {
      "text/plain": [
       "(1024, 1)"
      ]
     },
     "execution_count": 58,
     "metadata": {},
     "output_type": "execute_result"
    }
   ],
   "source": [
    "M = 4\n",
    "N = 1024\n",
    "device = torch.device(\"cuda\")\n",
    "dtype = torch.float32\n",
    "\n",
    "A = torch.rand((M, N), device=device, dtype=dtype)\n",
    "A.stride()"
   ]
  },
  {
   "cell_type": "code",
   "execution_count": 59,
   "metadata": {},
   "outputs": [
    {
     "data": {
      "text/plain": [
       "(1, 4)"
      ]
     },
     "execution_count": 59,
     "metadata": {},
     "output_type": "execute_result"
    }
   ],
   "source": [
    "Q = A.T.contiguous().T\n",
    "Q.stride()"
   ]
  },
  {
   "cell_type": "code",
   "execution_count": 60,
   "metadata": {},
   "outputs": [],
   "source": [
    "qr_func.qr_orthogonalization(Q, 0)\n",
    "qr_func.qr_orthogonalization(A, 0)"
   ]
  },
  {
   "cell_type": "code",
   "execution_count": 61,
   "metadata": {},
   "outputs": [
    {
     "data": {
      "text/plain": [
       "tensor([[True, True, True,  ..., True, True, True],\n",
       "        [True, True, True,  ..., True, True, True],\n",
       "        [True, True, True,  ..., True, True, True],\n",
       "        [True, True, True,  ..., True, True, True]], device='cuda:0')"
      ]
     },
     "execution_count": 61,
     "metadata": {},
     "output_type": "execute_result"
    }
   ],
   "source": [
    "Q == A"
   ]
  },
  {
   "cell_type": "code",
   "execution_count": 62,
   "metadata": {},
   "outputs": [
    {
     "data": {
      "text/plain": [
       "tensor(2.7431e-07, device='cuda:0')"
      ]
     },
     "execution_count": 62,
     "metadata": {},
     "output_type": "execute_result"
    }
   ],
   "source": [
    "torch.norm(Q @ Q.T - torch.eye(M, device = device, dtype=dtype))"
   ]
  },
  {
   "cell_type": "code",
   "execution_count": 116,
   "metadata": {},
   "outputs": [],
   "source": [
    "Q_or = original_orth(A.clone(), 0)"
   ]
  },
  {
   "cell_type": "code",
   "execution_count": 117,
   "metadata": {},
   "outputs": [
    {
     "data": {
      "text/plain": [
       "tensor(0.0074, device='cuda:0')"
      ]
     },
     "execution_count": 117,
     "metadata": {},
     "output_type": "execute_result"
    }
   ],
   "source": [
    "torch.norm(Q - Q_or)"
   ]
  },
  {
   "cell_type": "code",
   "execution_count": 118,
   "metadata": {},
   "outputs": [
    {
     "data": {
      "text/plain": [
       "tensor(0.0110, device='cuda:0')"
      ]
     },
     "execution_count": 118,
     "metadata": {},
     "output_type": "execute_result"
    }
   ],
   "source": [
    "torch.norm(Q_or @ Q_or.T - torch.eye(M, device = device))"
   ]
  },
  {
   "cell_type": "code",
   "execution_count": 64,
   "metadata": {},
   "outputs": [
    {
     "name": "stdout",
     "output_type": "stream",
     "text": [
      "(4, 1024): 151 µs ± 2.38 µs per loop (mean ± std. dev. of 7 runs, 10000 loops each)\n",
      "(4, 2048): 199 µs ± 7.66 µs per loop (mean ± std. dev. of 7 runs, 1000 loops each)\n",
      "(8, 1024): 318 µs ± 4.55 µs per loop (mean ± std. dev. of 7 runs, 1000 loops each)\n",
      "(8, 2048): 527 µs ± 1.49 µs per loop (mean ± std. dev. of 7 runs, 1000 loops each)\n",
      "(16, 1024): 1.99 ms ± 43.9 µs per loop (mean ± std. dev. of 7 runs, 100 loops each)\n",
      "(16, 2048): 5.1 ms ± 94 µs per loop (mean ± std. dev. of 7 runs, 100 loops each)\n"
     ]
    }
   ],
   "source": [
    "ms = [4, 8, 16]\n",
    "ns = [1024, 2048]\n",
    "\n",
    "for M, N in itertools.product(ms, ns):\n",
    "    A = torch.rand((N, M), device=device, dtype=dtype)\n",
    "    A = A.T\n",
    "    print(f\"({M}, {N}): \", end='')\n",
    "    %timeit torch.cuda.synchronize(); qr_func.qr_orthogonalization(A.clone(), 0); torch.cuda.synchronize();"
   ]
  },
  {
   "cell_type": "code",
   "execution_count": 126,
   "metadata": {},
   "outputs": [
    {
     "name": "stdout",
     "output_type": "stream",
     "text": [
      "3.72 ms ± 30.6 µs per loop (mean ± std. dev. of 7 runs, 100 loops each)\n"
     ]
    }
   ],
   "source": [
    "%timeit torch.cuda.synchronize(); qr_func.qr_orthogonalization(A.clone(), 0); torch.cuda.synchronize();"
   ]
  },
  {
   "cell_type": "code",
   "execution_count": 127,
   "metadata": {},
   "outputs": [
    {
     "name": "stdout",
     "output_type": "stream",
     "text": [
      "85.2 ms ± 10.5 ms per loop (mean ± std. dev. of 7 runs, 10 loops each)\n"
     ]
    }
   ],
   "source": [
    "%timeit torch.cuda.synchronize(); torch.qr(A.clone()); torch.cuda.synchronize();"
   ]
  },
  {
   "cell_type": "code",
   "execution_count": null,
   "metadata": {},
   "outputs": [],
   "source": []
  }
 ],
 "metadata": {
  "interpreter": {
   "hash": "916dbcbb3f70747c44a77c7bcd40155683ae19c65e1c03b4aa3499c5328201f1"
  },
  "kernelspec": {
   "display_name": "Python 3.8.10 64-bit",
   "language": "python",
   "name": "python3"
  },
  "language_info": {
   "codemirror_mode": {
    "name": "ipython",
    "version": 3
   },
   "file_extension": ".py",
   "mimetype": "text/x-python",
   "name": "python",
   "nbconvert_exporter": "python",
   "pygments_lexer": "ipython3",
   "version": "3.8.5"
  },
  "orig_nbformat": 4
 },
 "nbformat": 4,
 "nbformat_minor": 2
}
