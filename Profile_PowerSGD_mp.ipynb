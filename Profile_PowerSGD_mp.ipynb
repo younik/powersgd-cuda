{
  "nbformat": 4,
  "nbformat_minor": 0,
  "metadata": {
    "colab": {
      "name": "Profile_PowerSGD_mp.ipynb",
      "provenance": []
    },
    "kernelspec": {
      "name": "python3",
      "display_name": "Python 3"
    },
    "language_info": {
      "name": "python"
    }
  },
  "cells": [
    {
      "cell_type": "code",
      "execution_count": 2,
      "metadata": {
        "colab": {
          "base_uri": "https://localhost:8080/"
        },
        "id": "nDildKOAe18Z",
        "outputId": "2587bf6b-cffb-4dbd-a21a-bdfc6e8023ea"
      },
      "outputs": [
        {
          "output_type": "stream",
          "name": "stdout",
          "text": [
            "Writing run.py\n"
          ]
        }
      ],
      "source": [
        "%%writefile run.py\n",
        "\n",
        "import torch\n",
        "import torch.nn as nn\n",
        "import torchvision.datasets\n",
        "import torchvision.transforms as T\n",
        "import torchvision.models as models\n",
        "import torch.profiler\n",
        "\n",
        "import torch.multiprocessing as mp\n",
        "import torch.distributed.algorithms.ddp_comm_hooks.powerSGD_hook as powerSGD\n",
        "\n",
        "import os\n",
        "\n",
        "\n",
        "os.environ['MASTER_ADDR'] = 'localhost'\n",
        "os.environ['MASTER_PORT'] = '29500'\n",
        "\n",
        "wait = 1\n",
        "warmup = 1\n",
        "active = 3\n",
        "repeat = 2\n",
        "\n",
        "size = 2\n",
        "\n",
        "transform = T.Compose([\n",
        "  T.Resize(224),\n",
        "  T.ToTensor(),\n",
        "  T.Normalize((0.5, 0.5, 0.5), (0.5, 0.5, 0.5))\n",
        "])\n",
        "train_set = torchvision.datasets.CIFAR10(root='./data', train=True, download=True, transform=transform)\n",
        "train_loader = torch.utils.data.DataLoader(train_set, batch_size=32, shuffle=True)\n",
        "\n",
        "device = torch.device(\"cuda:0\")\n",
        "model = torchvision.models.resnet18().cuda(device)\n",
        "criterion = torch.nn.CrossEntropyLoss().cuda(device)\n",
        "\n",
        "\n",
        "def process_fn(rank, size):\n",
        "  torch.distributed.init_process_group('nccl', rank=rank, world_size=size)\n",
        "  ddp_model = nn.parallel.DistributedDataParallel(module=model)\n",
        "  state = powerSGD.PowerSGDState(process_group=None)\n",
        "  ddp_model.register_comm_hook(state, powerSGD.powerSGD_hook)\n",
        "\n",
        "  optimizer = torch.optim.SGD(ddp_model.parameters(), lr=0.001, momentum=0.9)\n",
        "  ddp_model.train()\n",
        "\n",
        "\n",
        "  with torch.profiler.profile(\n",
        "        schedule=torch.profiler.schedule(wait=wait, warmup=warmup, active=active, repeat=repeat),\n",
        "        on_trace_ready=torch.profiler.tensorboard_trace_handler(f'./log/resnet18-{rank}'),\n",
        "        record_shapes=True,\n",
        "        profile_memory=True,\n",
        "        with_stack=True\n",
        "  ) as prof:\n",
        "    for step, batch_data in enumerate(train_loader):\n",
        "        if step >= (wait + warmup + active) * repeat:\n",
        "            break\n",
        "\n",
        "        inputs, labels = data[0].to(device=device), data[1].to(device=device)\n",
        "        outputs = ddp_model(inputs)\n",
        "        loss = criterion(outputs, labels)\n",
        "        optimizer.zero_grad()\n",
        "        loss.backward()\n",
        "        optimizer.step()\n",
        "\n",
        "        prof.step() \n",
        "\n",
        "\n",
        "def run():\n",
        "  processes = []\n",
        "  mp.set_start_method(\"spawn\")\n",
        "  for rank in range(size):\n",
        "      p = mp.Process(target=process_fn, args=(rank, size))\n",
        "      p.start()\n",
        "      processes.append(p)\n",
        "\n",
        "  for p in processes:\n",
        "      p.join()\n",
        "\n",
        "if __name__ == '__main__':\n",
        "  run()"
      ]
    },
    {
      "cell_type": "code",
      "source": [
        "!python3 run.py"
      ],
      "metadata": {
        "id": "lIkLyjdPfE8u"
      },
      "execution_count": null,
      "outputs": []
    },
    {
      "cell_type": "markdown",
      "source": [
        "## Analyze"
      ],
      "metadata": {
        "id": "dN-Pxl4pfMuS"
      }
    },
    {
      "cell_type": "code",
      "source": [
        "!pip install torch_tb_profiler"
      ],
      "metadata": {
        "id": "TjpvuPXxfLpX"
      },
      "execution_count": null,
      "outputs": []
    },
    {
      "cell_type": "code",
      "source": [
        "%load_ext tensorboard\n",
        "%tensorboard --logdir=log"
      ],
      "metadata": {
        "id": "Wvp38uL5fXyh"
      },
      "execution_count": null,
      "outputs": []
    }
  ]
}